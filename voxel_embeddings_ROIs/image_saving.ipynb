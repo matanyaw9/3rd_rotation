{
 "cells": [
  {
   "cell_type": "markdown",
   "id": "c4e35b09",
   "metadata": {},
   "source": [
    "This is just for a quick view on the images"
   ]
  },
  {
   "cell_type": "code",
   "execution_count": 1,
   "id": "ba3d435c",
   "metadata": {},
   "outputs": [],
   "source": [
    "import sys\n",
    "import os\n",
    "import numpy as np\n",
    "import matplotlib\n",
    "import matplotlib.pyplot as plt\n",
    "\n",
    "sys.path.append('/home/jonathak/VisualEncoder/Voxels_Prediction')\n",
    "from predict_voxels_jonathan import get_images_for_prediction\n",
    "\n",
    "\n"
   ]
  },
  {
   "cell_type": "code",
   "execution_count": null,
   "id": "3f0a77bd",
   "metadata": {},
   "outputs": [],
   "source": [
    "def save_as_png(array, save_path):\n",
    "        \n",
    "    # If the image is a troch tensor, convert it to a numpy array\n",
    "    if isinstance(array, torch.Tensor):\n",
    "        array = array.cpu().numpy()\n",
    "    \n",
    "    # If array is (3,224,224), transpose it\n",
    "    if array.shape[0] == 3:\n",
    "        array = array.transpose(1, 2, 0)\n",
    "    \n",
    "    # Check if values are floats between 0-1 and scale accordingly\n",
    "    if array.dtype == np.float32 or array.dtype == np.float64:\n",
    "        array = (array * 255).astype(np.uint8)\n",
    "    elif array.dtype == np.uint8:\n",
    "        # Already in correct range, no scaling needed\n",
    "        pass\n",
    "    else:\n",
    "        raise ValueError(f\"Unsupported array dtype: {array.dtype}. Expected float32/64 or uint8\")\n",
    "    \n",
    "    # Save as PNG\n",
    "    plt.imsave(save_path, array)"
   ]
  },
  {
   "cell_type": "code",
   "execution_count": null,
   "id": "8472a4f6",
   "metadata": {},
   "outputs": [],
   "source": [
    "stroke_sub = 1\n",
    "images_indices = np.sort(np.array([1, 4, 7, 9, 15, 16, 18, 20, 21, 29, 51, 65, 69, 96, 99])) # For shared\n",
    "images = get_images_for_prediction(image_type='shared', subjects=stroke_sub)\n",
    "images = images.permute(0, 2, 3, 1).cpu().numpy()\n",
    "\n",
    "import matplotlib.pyplot as plt\n",
    "\n",
    "# if you only want to peek at the first, say, 20 images, slice images[:20]\n",
    "for idx, img in enumerate(images):\n",
    "    plt.figure(figsize=(3,3))\n",
    "    # if your values are still 0–255, use .astype(np.uint8)\n",
    "    plt.imshow(img.astype('uint8'))\n",
    "    plt.title(f\"Image #{idx}\")\n",
    "    plt.axis('off')\n",
    "    plt.show()"
   ]
  },
  {
   "cell_type": "code",
   "execution_count": null,
   "id": "be605c24",
   "metadata": {},
   "outputs": [],
   "source": [
    "interesting = [1, 5, 9, 12]    # whatever you choose\n",
    "for idx in interesting:\n",
    "    plt.figure(figsize=(3,3))\n",
    "    plt.imshow(images[idx].astype('uint8'))\n",
    "    plt.title(f\"Image #{idx}\")\n",
    "    plt.axis('off')\n",
    "    plt.show()\n"
   ]
  },
  {
   "cell_type": "code",
   "execution_count": null,
   "id": "251909c0",
   "metadata": {},
   "outputs": [],
   "source": [
    "save_as_png(images[img_idx], f'{image_save_path}/img_{img_idx}_original_image.png')\n"
   ]
  },
  {
   "cell_type": "code",
   "execution_count": null,
   "id": "2532526e",
   "metadata": {},
   "outputs": [],
   "source": []
  }
 ],
 "metadata": {
  "kernelspec": {
   "display_name": "amit-env",
   "language": "python",
   "name": "python3"
  },
  "language_info": {
   "codemirror_mode": {
    "name": "ipython",
    "version": 3
   },
   "file_extension": ".py",
   "mimetype": "text/x-python",
   "name": "python",
   "nbconvert_exporter": "python",
   "pygments_lexer": "ipython3",
   "version": "3.9.15"
  }
 },
 "nbformat": 4,
 "nbformat_minor": 5
}
